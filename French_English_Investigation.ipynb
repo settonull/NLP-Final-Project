{
 "cells": [
  {
   "cell_type": "code",
   "execution_count": null,
   "metadata": {},
   "outputs": [],
   "source": [
    "#just to test old eng/fra version\n",
    "MAX_LENGTH = 10\n",
    "\n",
    "eng_prefixes = (\n",
    "    \"i am \", \"i m \",\n",
    "    \"he is\", \"he s \",\n",
    "    \"she is\", \"she s\",\n",
    "    \"you are\", \"you re \",\n",
    "    \"we are\", \"we re \",\n",
    "    \"they are\", \"they re \"\n",
    ")\n",
    "\n",
    "\n",
    "def filterPair(p):\n",
    "    return len(p[0].split(' ')) < MAX_LENGTH and \\\n",
    "        len(p[1].split(' ')) < MAX_LENGTH and \\\n",
    "        p[1].startswith(eng_prefixes)\n",
    "\n",
    "\n",
    "def filterPairs(pairs):\n",
    "    return [pair for pair in pairs if filterPair(pair)]"
   ]
  },
  {
   "cell_type": "code",
   "execution_count": null,
   "metadata": {},
   "outputs": [],
   "source": [
    "import translator\n",
    "import torch\n",
    "%matplotlib inline\n",
    "\n",
    "\n",
    "#need to run these both to avoid passing device around everywhere\n",
    "translator.init_device()\n",
    "device = torch.device(\"cuda\" if torch.cuda.is_available() else \"cpu\")\n",
    "    \n",
    "\n",
    "input_lang, output_lang, pairs = translator.prepareData('eng', 'fra', True)\n",
    "\n",
    "pairs = filterPairs(pairs)\n",
    "\n",
    "hidden_size = 256\n",
    "encoder1 = translator.EncoderRNN(input_lang.n_words, hidden_size).to(device)\n",
    "#attn_decoder1 =translator.DecoderRNN(hidden_size, output_lang.n_words).to(device)\n",
    "attn_decoder1 = translator.BahdanauAttnDecoderRNN(hidden_size, output_lang.n_words, n_layers=1, dropout_p=0.1).to(device)\n",
    "\n",
    "iters = 50000# 75000\n",
    "print_int = 5000\n",
    "plot_int = 1000\n",
    "lr = 0.01\n",
    "max_length = 10\n",
    "teacher_forcing_ratio = 0.5\n",
    "\n",
    "#tokenize and convert to tensors\n",
    "token_pairs = [translator.tensorsFromPair(pair, input_lang, output_lang) for pair in pairs]\n",
    "    \n",
    "plot_losses = translator.trainIters(token_pairs, encoder1, attn_decoder1, iters, max_length, teacher_forcing_ratio, lr, print_every=print_int, plot_every=plot_int)\n",
    "\n",
    "translator.showPlot(plot_losses)\n",
    "\n",
    "translator.evaluateRandomly(pairs, max_length, input_lang, output_lang, encoder1, attn_decoder1)\n"
   ]
  },
  {
   "cell_type": "code",
   "execution_count": null,
   "metadata": {},
   "outputs": [],
   "source": []
  }
 ],
 "metadata": {
  "kernelspec": {
   "display_name": "Python 3",
   "language": "python",
   "name": "python3"
  },
  "language_info": {
   "codemirror_mode": {
    "name": "ipython",
    "version": 3
   },
   "file_extension": ".py",
   "mimetype": "text/x-python",
   "name": "python",
   "nbconvert_exporter": "python",
   "pygments_lexer": "ipython3",
   "version": "3.6.6"
  }
 },
 "nbformat": 4,
 "nbformat_minor": 2
}
