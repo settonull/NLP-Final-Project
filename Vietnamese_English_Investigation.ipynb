{
 "cells": [
  {
   "cell_type": "code",
   "execution_count": null,
   "metadata": {},
   "outputs": [],
   "source": [
    "import translator\n",
    "import torch\n",
    "from scipy import stats\n",
    "import numpy as np\n",
    "\n",
    "%matplotlib inline\n",
    "\n",
    "\n",
    "#need to run these both to avoid passing device around everywhere\n",
    "translator.init_device()\n",
    "device = torch.device(\"cuda\" if torch.cuda.is_available() else \"cpu\")\n",
    "\n",
    "#loads the data from the two files and creates two vocabs and a set of string sentence tuples\n",
    "input_vocab, output_vocab, pairs = translator.loadData('data/iwslt-vi-en/train.tok.vi', 'data/iwslt-vi-en/train.tok.en')\n",
    "\n",
    "#get sentence langs\n",
    "all_lengths = []\n",
    "for p in pairs:\n",
    "    all_lengths.append(len(p[0].split(' ')))\n",
    "    all_lengths.append(len(p[1].split(' ')))\n",
    "\n",
    "all_lengths = np.array(all_lengths)\n",
    "stats.describe(all_lengths)\n",
    "#del all_lengths"
   ]
  },
  {
   "cell_type": "code",
   "execution_count": null,
   "metadata": {},
   "outputs": [],
   "source": [
    "\n",
    "#define our model and training run paramaters\n",
    "hidden_size = 256\n",
    "iters = 10  #75000\n",
    "print_int = 5  #5000\n",
    "plot_int = 1  #100\n",
    "lr = 0.01\n",
    "max_length = 20\n",
    "teacher_forcing_ratio = 0.5\n",
    "\n",
    "max_vocab = -1  #not used yet\n",
    "\n",
    "\n",
    "\n",
    "#define our encoder and decoder\n",
    "encoder1 = translator.EncoderRNN(input_vocab.n_words, hidden_size).to(device)\n",
    "#attn_decoder1 =translator.DecoderRNN(hidden_size, output_lang.n_words).to(device)\n",
    "attn_decoder1 = translator.BahdanauAttnDecoderRNN(hidden_size, output_vocab.n_words, n_layers=1, dropout_p=0.1).to(device)\n",
    "\n",
    "#tokenize and convert to tensors\n",
    "token_pairs = [translator.tensorsFromPair(pair, input_vocab, output_vocab) for pair in pairs]\n",
    "\n",
    "#pairs needs to be a array of tuples of input_tokens, output_tokens\n",
    "plot_losses = translator.trainIters(token_pairs, encoder1, attn_decoder1, \n",
    "                                    iters, max_length, teacher_forcing_ratio, lr, \n",
    "                                    print_every=print_int, plot_every=plot_int, save_every=print_int)\n",
    "\n",
    "translator.showPlot(plot_losses)\n",
    "\n",
    "translator.evaluateRandomly(pairs, max_length, input_vocab, output_vocab, encoder1, attn_decoder1)\n"
   ]
  }
 ],
 "metadata": {
  "kernelspec": {
   "display_name": "Python 3",
   "language": "python",
   "name": "python3"
  },
  "language_info": {
   "codemirror_mode": {
    "name": "ipython",
    "version": 3
   },
   "file_extension": ".py",
   "mimetype": "text/x-python",
   "name": "python",
   "nbconvert_exporter": "python",
   "pygments_lexer": "ipython3",
   "version": "3.6.6"
  }
 },
 "nbformat": 4,
 "nbformat_minor": 2
}
